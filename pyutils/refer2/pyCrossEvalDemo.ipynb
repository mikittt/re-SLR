{
 "cells": [
  {
   "cell_type": "code",
   "execution_count": 1,
   "metadata": {
    "collapsed": false
   },
   "outputs": [],
   "source": [
    "from refer import REFER\n",
    "import numpy as np\n",
    "import sys\n",
    "import os.path as osp\n",
    "import json\n",
    "import matplotlib.pyplot as plt\n",
    "from matplotlib.patches import Rectangle\n",
    "%matplotlib inline"
   ]
  },
  {
   "cell_type": "code",
   "execution_count": 2,
   "metadata": {
    "collapsed": false
   },
   "outputs": [
    {
     "name": "stdout",
     "output_type": "stream",
     "text": [
      "loading dataset refcoco+ into memory...\n",
      "creating index...\n",
      "index created.\n",
      "DONE (t=9.77s)\n"
     ]
    }
   ],
   "source": [
    "# load refer\n",
    "data_root = 'new_data'\n",
    "dataset = 'refcoco+'\n",
    "splitBy = 'unc'\n",
    "refer = REFER(data_root, dataset, splitBy)"
   ]
  },
  {
   "cell_type": "markdown",
   "metadata": {},
   "source": [
    "# 1. Evaluate Refering Expressions by Language Metrics"
   ]
  },
  {
   "cell_type": "code",
   "execution_count": 3,
   "metadata": {
    "collapsed": true
   },
   "outputs": [],
   "source": [
    "sys.path.insert(0, 'evaluation')\n",
    "from crossEvaluation import CrossEvaluation"
   ]
  },
  {
   "cell_type": "code",
   "execution_count": 4,
   "metadata": {
    "collapsed": false
   },
   "outputs": [],
   "source": [
    "# Here's our example expression file\n",
    "# load baseline_testA_beam1.json\n",
    "sample_expr_file = json.load(open('test/baseline_mmi_testB_beam10.json', 'r'))\n",
    "predictions = sample_expr_file['predictions']"
   ]
  },
  {
   "cell_type": "code",
   "execution_count": 5,
   "metadata": {
    "collapsed": false
   },
   "outputs": [
    {
     "name": "stdout",
     "output_type": "stream",
     "text": [
      "tokenization...\n",
      "setting up scorers...\n",
      "computing Bleu score...\n",
      "{'reflen': 18624, 'guess': [19111, 13975, 8972, 5807], 'testlen': 19111, 'correct': [7815, 1837, 413, 88]}\n",
      "ratio: 1.02614905498\n",
      "Bleu_1: 0.409\n",
      "Bleu_2: 0.232\n",
      "Bleu_3: 0.135\n",
      "Bleu_4: 0.078\n",
      "computing METEOR score...\n",
      "METEOR: 0.170\n",
      "computing Rouge score...\n",
      "ROUGE_L: 0.382\n",
      "computing CIDEr score...\n",
      "CIDEr: 0.575\n"
     ]
    }
   ],
   "source": [
    "ceval = CrossEvaluation(refer, predictions)\n",
    "ceval.cross_evaluate()\n",
    "ceval.make_ref_to_evals()\n",
    "ref_to_evals = ceval.ref_to_evals  # ref_to_evals = {ref_id: {ref_id: {method: score}}}"
   ]
  },
  {
   "cell_type": "code",
   "execution_count": 6,
   "metadata": {
    "collapsed": false
   },
   "outputs": [
    {
     "name": "stdout",
     "output_type": "stream",
     "text": [
      "average (self_sc - max_cross_sc) = 0.093\n",
      "47.61% genenerated sentence has higher CIDEr using groud-truth expressions\n"
     ]
    }
   ],
   "source": [
    "# compute cross score\n",
    "ceval.Xscore('CIDEr')"
   ]
  },
  {
   "cell_type": "code",
   "execution_count": 7,
   "metadata": {
    "collapsed": false
   },
   "outputs": [
    {
     "name": "stdout",
     "output_type": "stream",
     "text": [
      "average (self_sc - max_cross_sc) = 0.060\n",
      "44.94% genenerated sentence has higher METEOR using groud-truth expressions\n"
     ]
    }
   ],
   "source": [
    "ceval.Xscore('METEOR')"
   ]
  },
  {
   "cell_type": "code",
   "execution_count": null,
   "metadata": {
    "collapsed": true
   },
   "outputs": [],
   "source": []
  }
 ],
 "metadata": {
  "kernelspec": {
   "display_name": "Python [anaconda3-4.1.1]",
   "language": "python",
   "name": "Python [anaconda3-4.1.1]"
  },
  "language_info": {
   "codemirror_mode": {
    "name": "ipython",
    "version": 3
   },
   "file_extension": ".py",
   "mimetype": "text/x-python",
   "name": "python",
   "nbconvert_exporter": "python",
   "pygments_lexer": "ipython3",
   "version": "3.5.4"
  }
 },
 "nbformat": 4,
 "nbformat_minor": 2
}
